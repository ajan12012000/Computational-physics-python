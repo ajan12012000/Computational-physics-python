{
 "cells": [
  {
   "cell_type": "markdown",
   "metadata": {},
   "source": [
    "Before you turn this problem in, make sure everything runs as expected. First, **restart the kernel** (in the menubar, select Kernel$\\rightarrow$Restart) and then **run all cells** (in the menubar, select Cell$\\rightarrow$Run All).\n",
    "\n",
    "Make sure you fill in any place that says `YOUR CODE HERE` or \"YOUR ANSWER HERE\".\n",
    "\n",
    "Do not edit or insert code into the test cells as all you insert will be overwritten by the automated testing code."
   ]
  },
  {
   "cell_type": "markdown",
   "metadata": {},
   "source": [
    "---"
   ]
  },
  {
   "cell_type": "markdown",
   "metadata": {
    "deletable": false,
    "editable": false,
    "nbgrader": {
     "checksum": "ff3ec4d686973db23cc46cbd958034b3",
     "grade": false,
     "grade_id": "cell-14f6c436f3904ca5",
     "locked": true,
     "schema_version": 1,
     "solution": false
    }
   },
   "source": [
    "**Question 11**: Consider the one-dimensional, time-independent Schroedinger equation describing a particle with wave function $\\psi(x)$ and energy $E$: $$-\\frac{\\hbar^{2}}{2\\,m}\\,\\frac{d^{2}\\psi(x)}{dx^{2}} + V(x)\\,\\psi(x) = E\\,\\psi(x).$$ Values for the constants $m$, $\\hbar$ and others required for the calculation in SI units are given in the code cell below. (Note: the energy unit eV is taken as elementary charge $e$ times Volts with $e$ given as a constant.]\n",
    "\n",
    "**Tasks**: \n",
    "\n",
    "**(a)** Consider a square potential well with $V(x)=0$ in between two infinitely high walls separated by a distance $L$ equal to the Bohr radius, i.e. for all x in the interval $[0,L]$. Write a function `solve(energy, func)` which takes the parameter energy and a python function $func$. This function should solve the Schroedinger ODE for the case described above and return only the final value of $\\psi(L)$ at the boundary $L$. \n",
    "\n",
    "Write a function `eqn(y, x, energy)` containing the two first-order differential equations equivalent to the Schroedinger equation. Use this function as input for the `solve(energy, func)` function. This detailed naming scheme is required for the first tests of your code.\n",
    "\n",
    "Write a script using the function `solve(energy, func)` to calculate the ground state energy of an electron in this potential well in units of eV (i.e. divide result by elementary charge value). For the initial condition, see technical hint below. For the number of values to solve for $\\psi(x)$ the value 1000 is recommended. \n",
    "\n",
    "The result of your calculation should be a number between 134 eV and 135 eV. One of the tests will assess your `solve(energy, func)` function for a distorted potential well.\n",
    "\n",
    "**(b)** Consider the harmonic potential $$V(x)=V_{0}\\,x^{2}/a^{2},$$ where $V_{0}$ and $a=10^{-11}$ m are constants. Limit the infinite range of the variable $x$ to the interval $[-10a, 10a]$ with $V_{0}=50$ eV. The harmonic oscillator is known to have equidistant energy eigenvalues. Check that this is true, to the precision of your calculation, by calculating the ground state and the first 2 excited states. (Hint: the ground state has energy in the range 100 to 200 eV.)\n",
    "\n",
    "In order to test your result, write a function `result()` which must return the difference of calculated energy eigenvalues in eV as a single number. Note that the test with the expected number is hidden and will test your result to a precision of $\\pm{}1$ eV.\n",
    "\n",
    "**(c)** Plot the normalized wavefunctions, for the ground state energy and the two excited state energies as obtained without normalization in part (b), in the interval $[-5a,5a]$. Note that normalization of a wavefunction requires the calculation of the integral of the square of the wavefunction $\\int|\\psi(x)|^{2}dx$ and subsequent division of $\\psi(x)$ by the square root of the integral. \n",
    "\n",
    "Provide a plot title and appropriate axis labels, plot all three wavefunctions onto a single canvas using color-coded lines and also provide suitable axis limits in x and y to render all curves well visible. \n",
    "\n",
    "**Technical Hint**: This is not an initial value problem for the Schroedinger ODE but a boundary value problem! This requires additional effort, a different method to the previous ODE exercises and is hence an 'unseen' problem. \n",
    "\n",
    "Take a simple initial condition for both problems at $x_{0}=0$ or $x_{0}=-10a$, respectively: $\\psi(x_{0})=0$ and $d\\psi(x_{0})/dx=1$. Use that as a starting point to solve the ODE and vary the energy, $E$, until a solution converges. The task is to evaluate the variation of the energy variable until the second boundary condition (for instance at L for exercise (a)) is satisfied since the first boundary condition is already satisfied due to the choice of initial condition. \n",
    "\n",
    "This requires an initial guess for the energy interval in which the solution might be and a computational method for root finding. Search scipy for root finding methods and select one which does not require knowledge of the derivative. Root finding is appropriate here since the boundary condition to satisfy is $\\psi(x)=0$ to a given precision. Another hint would be to consider the required precision since in SI units, absolute values for $E$ are very small indeed.\n",
    "\n",
    "**Quantum physics background** For those lacking the first year quantum module, the boundary condition for both exercises is that $\\psi(x)=0$ at each potential boundary. These are only fulfilled at specific, discrete energy values $E$, called energy eigenvalues, where the smallest of these is called the ground state energy."
   ]
  },
  {
   "cell_type": "code",
   "execution_count": 1,
   "metadata": {
    "deletable": false,
    "nbgrader": {
     "checksum": "6f4f8268ada90d9321d6320bd839ece2",
     "grade": false,
     "grade_id": "Q11CodeA",
     "locked": false,
     "schema_version": 1,
     "solution": true
    }
   },
   "outputs": [
    {
     "name": "stdout",
     "output_type": "stream",
     "text": [
      "The ground state to the nearest tenth decimal is 134.3\n"
     ]
    }
   ],
   "source": [
    "''' required physical constants given in SI units'''\n",
    "m_el   = 9.1094e-31      # mass of electron in [kg]\n",
    "hbar   = 1.0546e-34      # Planck's constant over 2 pi [Js]\n",
    "e_el   = 1.6022e-19      # electron charge in [C]\n",
    "L_bohr = 5.2918e-11      # Bohr radius [m]\n",
    "\n",
    "# YOUR CODE HERE\n",
    "import math\n",
    "import numpy as np\n",
    "from scipy.integrate import odeint\n",
    "%matplotlib inline\n",
    "import matplotlib.pyplot as plt\n",
    "\n",
    "def solve(energy, func):\n",
    "    x = np.linspace(0, L_bohr, 1000)\n",
    "    sol = odeint(func, [0, 1], x, args=(energy,))\n",
    "    return sol[999,0]\n",
    "def eqn(y, x, energy):\n",
    "    psi, dpsi = y\n",
    "    diff = [dpsi, (2*m_el/hbar**2)*(0 - energy)*psi]\n",
    "    return diff\n",
    "\n",
    "value1 = solve(100*e_el, eqn)\n",
    "i = 100\n",
    "while value1 > 0:\n",
    "    i += 0.1\n",
    "    value1 = solve(i*e_el, eqn)\n",
    "i = round(i, 1)\n",
    "print('The ground state to the nearest tenth decimal is', i)\n"
   ]
  },
  {
   "cell_type": "code",
   "execution_count": 2,
   "metadata": {
    "deletable": false,
    "nbgrader": {
     "checksum": "ebeebc3726ff4505bf978f8104727d63",
     "grade": false,
     "grade_id": "Q11CodeB",
     "locked": false,
     "schema_version": 1,
     "solution": true
    }
   },
   "outputs": [
    {
     "name": "stdout",
     "output_type": "stream",
     "text": [
      "The difference between eigenvalues is 276.0\n"
     ]
    },
    {
     "data": {
      "image/png": "[encoded data removed]",
      "text/plain": [
       "<Figure size 432x288 with 1 Axes>"
      ]
     },
     "metadata": {
      "needs_background": "light"
     },
     "output_type": "display_data"
    }
   ],
   "source": [
    "# solution to part (b)\n",
    "# YOUR CODE HERE\n",
    "\n",
    "def solve2(energy, func):\n",
    "    x = np.linspace(-10*10**-11, 10*10**-11, 1000)\n",
    "    sol = odeint(func, [0, 1], x, args=(energy,))\n",
    "    return sol[:, 0]\n",
    "def eqn2(y, x, energy):\n",
    "    psi, dpsi = y\n",
    "    diff = [dpsi, (2*m_el/hbar**2)*(50*e_el*(x**2)*10**22 - energy)*psi]\n",
    "    return diff\n",
    "\n",
    "def result():\n",
    "    energy = np.linspace(0, 900, 900)\n",
    "    boundary = []\n",
    "    for i in range(len(energy)-1):\n",
    "        boundary.append(solve2(energy[i] * e_el, eqn2)[-1])\n",
    "    rougheigen = []\n",
    "    for j in range(len(boundary)-1):\n",
    "        if (boundary[j] > 0 and boundary[j+1] < 0) or (boundary[j] < 0 and boundary[j+1] > 0):\n",
    "            rougheigen.append(j)\n",
    "    difference = []\n",
    "    for k in range(len(rougheigen)-1):\n",
    "        difference.append(abs(rougheigen[k+1]-rougheigen[k]))\n",
    "    difference = np.array(difference)\n",
    "    return np.average(difference)\n",
    "\n",
    "print('The difference between eigenvalues is', result())\n",
    "def normalising(psi):\n",
    "    integral = np.dot(psi, psi)\n",
    "    p = psi/np.sqrt(integral)\n",
    "    p = p.reshape(4, 250)\n",
    "    pdel = np.delete(p, 3, 0)\n",
    "    pdel = np.delete(pdel, 1, 0)\n",
    "    pdel = pdel.reshape(500,)\n",
    "    return pdel\n",
    "\n",
    "x = np.linspace(-5*10**-11, 5*10**-11, 500)\n",
    "groundstate = normalising(solve2(137*e_el, eqn2))\n",
    "firststate = normalising(solve2(413*e_el, eqn2))\n",
    "secondstate = normalising(solve2(689*e_el, eqn2))\n",
    "plt.plot(x, groundstate, 'b', label='groundstate')\n",
    "plt.plot(x, firststate, 'r', label='firststate')\n",
    "plt.plot(x, secondstate, 'g', label='secondstate')\n",
    "plt.title('Normalised wavefunction')\n",
    "plt.xlabel('X')\n",
    "plt.ylabel('Psi value')\n",
    "plt.legend()\n",
    "plt.show()"
   ]
  },
  {
   "cell_type": "code",
   "execution_count": 3,
   "metadata": {
    "deletable": false,
    "editable": false,
    "nbgrader": {
     "checksum": "ab520965169f76bfd7a87881c93a521c",
     "grade": true,
     "grade_id": "Q11TestA",
     "locked": true,
     "points": 2,
     "schema_version": 1,
     "solution": false
    }
   },
   "outputs": [],
   "source": [
    "# Test cell\n",
    "value1 = solve(100*e_el, eqn)\n",
    "value2 = solve(200*e_el, eqn)\n",
    "assert (value1>8.1e-12 and value1<8.2e-12), 'wrong boundary value for Psi(x) at 100 eV.'\n",
    "assert (value2>-8.9e-12 and value2<-8.8e-12), 'wrong boundary value for Psi(x) at 200 eV.'\n"
   ]
  },
  {
   "cell_type": "code",
   "execution_count": 4,
   "metadata": {
    "deletable": false,
    "editable": false,
    "nbgrader": {
     "checksum": "14a2e053527f4415a9fbab03f07d356f",
     "grade": true,
     "grade_id": "Q11TestB",
     "locked": true,
     "points": 2,
     "schema_version": 1,
     "solution": false
    }
   },
   "outputs": [],
   "source": [
    "# Hidden tests for (a), (b)\n"
   ]
  },
  {
   "cell_type": "markdown",
   "metadata": {
    "deletable": false,
    "editable": false,
    "nbgrader": {
     "checksum": "5434f7fb6deefba9e436a99a7e62a8bc",
     "grade": false,
     "grade_id": "cell-6810b3df37ea911a",
     "locked": true,
     "schema_version": 1,
     "solution": false
    }
   },
   "source": [
    "### Tests 4 marks; Style 1 mark; Plot - 4 marks"
   ]
  }
 ],
 "metadata": {
  "kernelspec": {
   "display_name": "Python 3",
   "language": "python",
   "name": "python3"
  },
  "language_info": {
   "codemirror_mode": {
    "name": "ipython",
    "version": 3
   },
   "file_extension": ".py",
   "mimetype": "text/x-python",
   "name": "python",
   "nbconvert_exporter": "python",
   "pygments_lexer": "ipython3",
   "version": "3.7.1"
  }
 },
 "nbformat": 4,
 "nbformat_minor": 2
}
