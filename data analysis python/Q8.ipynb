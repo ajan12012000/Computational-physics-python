{
 "cells": [
  {
   "cell_type": "markdown",
   "metadata": {},
   "source": [
    "Before you turn this problem in, make sure everything runs as expected. First, **restart the kernel** (in the menubar, select Kernel$\\rightarrow$Restart) and then **run all cells** (in the menubar, select Cell$\\rightarrow$Run All).\n",
    "\n",
    "Make sure you fill in any place that says `YOUR CODE HERE` or \"YOUR ANSWER HERE\".\n",
    "\n",
    "Do not edit or insert code into the test cells as all you insert will be overwritten by the automated testing code."
   ]
  },
  {
   "cell_type": "markdown",
   "metadata": {},
   "source": [
    "---"
   ]
  },
  {
   "cell_type": "markdown",
   "metadata": {
    "deletable": false,
    "editable": false,
    "nbgrader": {
     "checksum": "db688b313fa542c614b974ded16e38e4",
     "grade": false,
     "grade_id": "cell-672547ab8b0f5425",
     "locked": true,
     "schema_version": 1,
     "solution": false
    }
   },
   "source": [
    "**Question 8**: Consider a set of coupled first-order differential equations, typically called 'rate equations'. Let the two ODE's be $$\\frac{dy_{1}}{dt}=-k_{1}\\,y_{1}$$ and $$\\frac{dy_{2}}{dt}=k_{1}\\,y_{1} - k_{2}\\,y_{2}$$ where $k_{1,2}$ are rate constants. \n",
    "\n",
    "**Data**: Take $k_{1}=0.2$ s$^{-1}$ and $k_{2}=0.8$ s$^{-1}$. Initial conditions shall be $y_{1}(0)=100$ and $y_{2}(0)=0$. \n",
    "\n",
    "**Task**: Write a function `rateEqns(init, time, k1, k2)` with the array of initial conditions, the time array and the rate constants $k_{1}$ and $k_{2}$ as input. Let the function solve the rate equation ODE's and return the full `odeint` output.\n",
    "\n",
    "Plot the solutions (with different markers) with suitable axes labels, a legend and a title. Also include a plot of loss feed, i.e. $L(t) = y_{1}(0) - y_{1}(t) - y_{2}(t)$."
   ]
  },
  {
   "cell_type": "code",
   "execution_count": 1,
   "metadata": {
    "deletable": false,
    "nbgrader": {
     "checksum": "5e4ac3493c29b29f9716dc9a2c360ac8",
     "grade": false,
     "grade_id": "Q8Code",
     "locked": false,
     "schema_version": 1,
     "solution": true
    }
   },
   "outputs": [
    {
     "data": {
      "image/png": "[encoded data removed]",
      "text/plain": [
       "<Figure size 432x288 with 1 Axes>"
      ]
     },
     "metadata": {
      "needs_background": "light"
     },
     "output_type": "display_data"
    }
   ],
   "source": [
    "# YOUR CODE HERE\n",
    "import numpy as np\n",
    "from scipy.integrate import odeint\n",
    "%matplotlib inline\n",
    "import matplotlib.pyplot as plt\n",
    "\n",
    "def model(y, t, k1, k2):\n",
    "    '''This is the model function that returns dy/dt as a vector'''\n",
    "    y1, y2 = y\n",
    "    dydt = [-k1 * y1, k1 * y1 - k2 * y2]\n",
    "    return dydt\n",
    "\n",
    "def rateEqns(init, time, k1, k2):\n",
    "    '''This is the solution for the rate equation'''\n",
    "    sol = odeint(model, init, time, args=(k1, k2))\n",
    "    return sol\n",
    "def main():\n",
    "    '''This is the main function'''\n",
    "    k1 = 0.2\n",
    "    k2 = 0.8\n",
    "    y10 = 100\n",
    "    y20 = 0\n",
    "    time = np.linspace(0, 20, 40)\n",
    "    init = np.array([y10, y20])\n",
    "    answer = rateEqns(init, time, k1, k2)\n",
    "    plt.plot(time, answer[:, 0], 'b', label='y1')\n",
    "    plt.plot(time, answer[:, 1], 'g', label='y2')\n",
    "    plt.plot(time, y10 - answer[:, 0] - answer[:, 1], 'r', label='plot of loss feed')\n",
    "    plt.title('Y against time')\n",
    "    plt.xlabel('Time')\n",
    "    plt.ylabel('Y value')\n",
    "    plt.legend()\n",
    "    plt.show()\n",
    "\n",
    "main()"
   ]
  },
  {
   "cell_type": "code",
   "execution_count": 2,
   "metadata": {
    "deletable": false,
    "editable": false,
    "nbgrader": {
     "checksum": "6a6bccd97b8e0526e2556f0220e4b714",
     "grade": true,
     "grade_id": "Q8TestA",
     "locked": true,
     "points": 2,
     "schema_version": 1,
     "solution": false
    }
   },
   "outputs": [],
   "source": [
    "# Test cell\n",
    "k1 = 0.2\n",
    "k2 = 0.8\n",
    "y10 = 100\n",
    "y20 = 0\n",
    "time = np.linspace(0, 20, 40)\n",
    "init = np.array([y10, y20])\n",
    "answer = rateEqns(init, time, k1, k2)\n",
    "# 1\n",
    "loss = y10 - answer[:,0] - answer[:,1]\n",
    "assert (loss[10]>52.0 and loss[10]<53.0), 'wrong loss value'"
   ]
  },
  {
   "cell_type": "code",
   "execution_count": 3,
   "metadata": {
    "deletable": false,
    "editable": false,
    "nbgrader": {
     "checksum": "126f7c388335d4ab65af1cc824df2497",
     "grade": true,
     "grade_id": "Q8TestB",
     "locked": true,
     "points": 1,
     "schema_version": 1,
     "solution": false
    }
   },
   "outputs": [],
   "source": [
    "# Test cell\n",
    "assert (answer[1,0]>90.0 and answer[1,0]<90.4), 'wrong solution value'\n",
    "assert (answer[1,1]>7.9 and answer[1,1]<8.0), 'wrong solution value'"
   ]
  },
  {
   "cell_type": "markdown",
   "metadata": {
    "deletable": false,
    "editable": false,
    "nbgrader": {
     "checksum": "6792f95b887a5fd5c2775ef2bdeb3cf2",
     "grade": false,
     "grade_id": "cell-9c0a6630fe5c7c8c",
     "locked": true,
     "schema_version": 1,
     "solution": false
    }
   },
   "source": [
    "### Tests 3 marks; Style 1 mark; Plot - 3 marks"
   ]
  }
 ],
 "metadata": {
  "kernelspec": {
   "display_name": "Python 3",
   "language": "python",
   "name": "python3"
  },
  "language_info": {
   "codemirror_mode": {
    "name": "ipython",
    "version": 3
   },
   "file_extension": ".py",
   "mimetype": "text/x-python",
   "name": "python",
   "nbconvert_exporter": "python",
   "pygments_lexer": "ipython3",
   "version": "3.7.1"
  }
 },
 "nbformat": 4,
 "nbformat_minor": 2
}
