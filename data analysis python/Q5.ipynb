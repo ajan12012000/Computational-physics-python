{
 "cells": [
  {
   "cell_type": "markdown",
   "metadata": {},
   "source": [
    "Before you turn this problem in, make sure everything runs as expected. First, **restart the kernel** (in the menubar, select Kernel$\\rightarrow$Restart) and then **run all cells** (in the menubar, select Cell$\\rightarrow$Run All).\n",
    "\n",
    "Make sure you fill in any place that says `YOUR CODE HERE` or \"YOUR ANSWER HERE\".\n",
    "\n",
    "Do not edit or insert code into the test cells as all you insert will be overwritten by the automated testing code."
   ]
  },
  {
   "cell_type": "markdown",
   "metadata": {},
   "source": [
    "---"
   ]
  },
  {
   "cell_type": "markdown",
   "metadata": {
    "deletable": false,
    "editable": false,
    "nbgrader": {
     "checksum": "bf41f702cf20a2799f01c2f805b04a2d",
     "grade": false,
     "grade_id": "cell-00e22ce0e6e1999b",
     "locked": true,
     "schema_version": 1,
     "solution": false
    }
   },
   "source": [
    "**Question 5**: Consider measuring the viscosity of a liquid by timing how long it takes a solid sphere to fall a specific distance in the liquid. Calculate the viscosity according to $$\\mu=2\\,(\\rho_{S}-\\rho_{L})\\,\\frac{g\\,r^{2}\\,t}{9\\,l},$$ where $\\rho_{S}$ and $\\rho_{L}$ are the densities of the sphere and liquid respectively, $g=9.81$ms$^{-2}$ is the gravitational acceleration, $r$ the radius of the sphere, $l$ the length of the fall and $t$ the time it takes to fall the length $l$.\n",
    "\n",
    "**Calculation data and errors**: The density numbers will have errors to consider. For the sphere, the mass is given as $m_{S}=0.021$ kg with uncertainty of $5\\times10^{-4}$ kg and the radius is $0.01$ m with uncertainty of $5\\times10^{-4}$ m.\n",
    "\n",
    "For the liquid, the volume is given as $0.1$ m$^{3}$ with uncertainty of $5\\times10^{-4}$ m$^{3}$ and mass of $0.14$ kg and uncertainty of $5\\times10^{-4}$ kg.\n",
    "\n",
    "The fall distance is marked as $0.1$ m and uncertainty $5\\times10^{-4}$ m while the time measurement is taken as $3.2$ s with uncertainty $0.05$ s.\n",
    "\n",
    "All uncertainties are assumed to be Gaussian distributed and hence given as single standard deviation precision. All given measurement values are considered to be independent from each other.\n",
    "\n",
    "**Task**: Before purchasing equipment for this experiment and spending time and effort, you wish to check how precisely the viscosity can be determined in this case. Write a function `viscosity(err1, err2)` which calculates the array of viscosities according to the random error arrays `err1` and `err2` as input. \n",
    "\n",
    "**(a)** Write a Monte-Carlo simulation to find the distribution of viscosity measurements you could be taking if this experiment were to be performed. Simulate 1000 experiments, plot the viscosity distribution as a histogram with appropriate axes labels and print the mean and standard deviation.\n",
    "\n"
   ]
  },
  {
   "cell_type": "code",
   "execution_count": 1,
   "metadata": {
    "deletable": false,
    "nbgrader": {
     "checksum": "e02683f2697c7e393bea5a40d0fbc7ca",
     "grade": false,
     "grade_id": "Q5Code",
     "locked": false,
     "schema_version": 1,
     "solution": true
    }
   },
   "outputs": [
    {
     "data": {
      "image/png": "[encoded data removed]",
      "text/plain": [
       "<Figure size 432x288 with 1 Axes>"
      ]
     },
     "metadata": {
      "needs_background": "light"
     },
     "output_type": "display_data"
    },
    {
     "name": "stdout",
     "output_type": "stream",
     "text": [
      "The mean of the viscosity is 35.01839401814447\n",
      "The standard deviation is 1.1854734181463995\n"
     ]
    }
   ],
   "source": [
    "# YOUR CODE HERE\n",
    "import numpy as np\n",
    "%matplotlib inline\n",
    "import matplotlib.pyplot as plt\n",
    "\n",
    "def viscosfunc(Ms, Ml, r, Vl, t, l):\n",
    "    '''This is the function that returns the viscosity of liquid'''\n",
    "    ps = Ms/((4/3)*np.pi*(r**3))\n",
    "    pl = Ml/Vl\n",
    "    mu = 2*(ps - pl)*9.81*(r**2)*t/(9*l)\n",
    "    return mu\n",
    "\n",
    "def viscosity(err1, err2):\n",
    "    '''This is the function that returns viscosity with error included'''\n",
    "    if isinstance(err1, float):\n",
    "        return viscosfunc(0.021, 0.14, 0.01, 0.1, 3.2, 0.1)\n",
    "    else:\n",
    "        collector = []\n",
    "        for i in range(len(err1)):\n",
    "            Ms = 0.021 + err1[i]\n",
    "            Ml = 0.14 + err1[i]\n",
    "            r = 0.01 + err1[i]\n",
    "            Vl = 0.1 + err1[i]\n",
    "            t = 3.2 + err2[i]\n",
    "            l = 0.1 + err1[i]\n",
    "            collector.append(viscosfunc(Ms, Ml, r, Vl, t, l))\n",
    "        return np.array(collector)\n",
    "\n",
    "def main():\n",
    "    '''This is the main function that plots histogram'''\n",
    "    err1 = np.random.normal(0.0, 0.0005, 1000)\n",
    "    err2 = np.random.normal(0.0, 0.05, 1000)\n",
    "    mu = viscosity(err1, err2)\n",
    "    plt.hist(mu, density=1, bins=20)\n",
    "    plt.ylabel('probabilty')\n",
    "    plt.xlabel('viscosity')\n",
    "    plt.title('Probality density of viscosity')\n",
    "    plt.show()\n",
    "    print('The mean of the viscosity is ' + str(np.mean(mu)))\n",
    "    print('The standard deviation is ' + str(np.std(mu)))\n",
    "\n",
    "main()\n"
   ]
  },
  {
   "cell_type": "markdown",
   "metadata": {
    "deletable": false,
    "editable": false,
    "nbgrader": {
     "checksum": "36ac0932783e801c413b4775f75656b5",
     "grade": false,
     "grade_id": "cell-5fe25ef893777e9b",
     "locked": true,
     "schema_version": 1,
     "solution": false
    }
   },
   "source": [
    "**(b)** Determine by computer experiment (iterate: change parameter, run) how to improve the viscosity precision most effectively. Consider changing individual observable uncertainty scales, one by one by the same fraction, re-run the simulation and observe the effect such a change has on the viscosity distribution width. \n",
    "\n",
    "Which observable uncertainty reduced to a smaller value would have the biggest beneficial effect on viscosity measurements? Name the observable in the text box below. Hint: you should notice one stand-out candidate observable."
   ]
  },
  {
   "cell_type": "markdown",
   "metadata": {
    "deletable": false,
    "nbgrader": {
     "checksum": "f1adcaf43cd16633d62f82230b1118d5",
     "grade": true,
     "grade_id": "Q5Reply",
     "locked": false,
     "points": 1,
     "schema_version": 1,
     "solution": true
    }
   },
   "source": [
    "YOUR ANSWER HERE:\n",
    "Reducing the uncertainty, by dividing the error by 5, individually makes it clear that having the radius's error reduced to a smaller value will make the measurement a lot more precise. Through this iteration process all the standard deviation was above 1, after the change, except for the radius which had a standard deviation at around 0.6. \n",
    "So reducing the uncertainty of radius will have the greatest effect in increasing the viscosity precision."
   ]
  },
  {
   "cell_type": "code",
   "execution_count": 4,
   "metadata": {
    "deletable": false,
    "editable": false,
    "nbgrader": {
     "checksum": "9c66176fd83ae782317507c5145ba459",
     "grade": true,
     "grade_id": "Q5TestA",
     "locked": true,
     "points": 1,
     "schema_version": 1,
     "solution": false
    }
   },
   "outputs": [],
   "source": [
    "# Test cell\n",
    "mu0 = viscosity(0.0, 0.0)\n",
    "assert (mu0>34.9 and mu0<35.0)"
   ]
  },
  {
   "cell_type": "code",
   "execution_count": 3,
   "metadata": {
    "deletable": false,
    "editable": false,
    "nbgrader": {
     "checksum": "11b98fabefb12d84bebb75c33393ba63",
     "grade": true,
     "grade_id": "Q5TestB",
     "locked": true,
     "points": 2,
     "schema_version": 1,
     "solution": false
    }
   },
   "outputs": [],
   "source": [
    "# Test cell\n",
    "err1 = np.random.normal(0.0, 0.0005, 1000)\n",
    "err2 = np.random.normal(0.0, 0.05, 1000)\n",
    "mu = viscosity(err1, err2)\n",
    "assert (np.mean(mu)>34.8 and np.mean(mu)<35.2)\n",
    "assert (np.std(mu)>1.1 and np.std(mu)<1.3)"
   ]
  },
  {
   "cell_type": "markdown",
   "metadata": {
    "deletable": false,
    "editable": false,
    "nbgrader": {
     "checksum": "74676b93936b1486ed80e15482d2db75",
     "grade": false,
     "grade_id": "cell-9d5ae8c63a99cfc6",
     "locked": true,
     "schema_version": 1,
     "solution": false
    }
   },
   "source": [
    "### Tests - 4 marks; Style - 1 mark; Plot - 2 marks"
   ]
  }
 ],
 "metadata": {
  "kernelspec": {
   "display_name": "Python 3",
   "language": "python",
   "name": "python3"
  },
  "language_info": {
   "codemirror_mode": {
    "name": "ipython",
    "version": 3
   },
   "file_extension": ".py",
   "mimetype": "text/x-python",
   "name": "python",
   "nbconvert_exporter": "python",
   "pygments_lexer": "ipython3",
   "version": "3.7.1"
  }
 },
 "nbformat": 4,
 "nbformat_minor": 2
}
